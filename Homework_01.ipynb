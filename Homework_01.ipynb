{
 "cells": [
  {
   "cell_type": "markdown",
   "id": "7ccb3b5c",
   "metadata": {},
   "source": [
    "# Домашняя работа по семинару 1"
   ]
  },
  {
   "cell_type": "markdown",
   "id": "1cd768e8",
   "metadata": {},
   "source": [
    "## Задание 1"
   ]
  },
  {
   "cell_type": "markdown",
   "id": "48723f08",
   "metadata": {},
   "source": [
    "### 5.1 Найдите картинку в интернете и прикрепите её в ячейку с текстом"
   ]
  },
  {
   "cell_type": "markdown",
   "id": "f606d56e",
   "metadata": {},
   "source": [
    "<img src='https://klike.net/uploads/posts/2023-02/1675326742_3-31.jpg' width=400px align=left>"
   ]
  },
  {
   "attachments": {},
   "cell_type": "markdown",
   "id": "7a6a477f",
   "metadata": {},
   "source": [
    "### 5.2 Создайте следующую таблицу в ячейке с текстом"
   ]
  },
  {
   "cell_type": "markdown",
   "id": "a2de7eac",
   "metadata": {},
   "source": [
    "<table align=left>\n",
    "    <tr>\n",
    "        <td></td>\n",
    "        <td>ДО СОБЫТИЯ</td>\n",
    "        <td>ВО ВРЕМЯ СОБЫТИЯ</td>\n",
    "    </tr>\n",
    "    <tr>\n",
    "        <td>Первая контрольная точка</td>\n",
    "        <td>250</td>\n",
    "        <td>500</td>\n",
    "    </tr>\n",
    "    <tr>\n",
    "        <td>Вторая контрольная точка</td>\n",
    "        <td>350</td>\n",
    "        <td>700</td>\n",
    "    </tr>\n",
    "    <tr>\n",
    "        <td>Третья контрольная точка</td>\n",
    "        <td>400</td>\n",
    "        <td>800</td>\n",
    "    </tr>\n",
    "</table>\n",
    "</div>"
   ]
  },
  {
   "cell_type": "markdown",
   "id": "d64c35e3",
   "metadata": {},
   "source": [
    "# Задание 2"
   ]
  },
  {
   "cell_type": "markdown",
   "id": "78bccf96",
   "metadata": {},
   "source": [
    "На складе лежат разные фрукты в разном количестве.\n",
    "Нужно написать функцию, которая на вход принимает любое количество названий фруктов и их количество, а возвращает общее количество фруктов на складе"
   ]
  },
  {
   "cell_type": "code",
   "execution_count": 1,
   "id": "ab7cd32e",
   "metadata": {},
   "outputs": [],
   "source": [
    "def fruit_quantity(**fruits):\n",
    "    return sum(fruits.values())"
   ]
  },
  {
   "cell_type": "code",
   "execution_count": 2,
   "id": "cfd63268",
   "metadata": {},
   "outputs": [
    {
     "data": {
      "text/plain": [
       "100"
      ]
     },
     "execution_count": 2,
     "metadata": {},
     "output_type": "execute_result"
    }
   ],
   "source": [
    "fruit_quantity(oranges=20, apples=10, bananas=40, pineapples=30)"
   ]
  },
  {
   "cell_type": "markdown",
   "id": "8e09a3c9",
   "metadata": {},
   "source": [
    "## Задание 3"
   ]
  },
  {
   "cell_type": "markdown",
   "id": "5686205f",
   "metadata": {},
   "source": [
    "Дан список с затратами на рекламу. Но в данных есть ошибки, некоторые затраты имеют отрицательную величину. Удалите такие значения из списка и посчитайте суммарные затраты\n",
    "[100, 125, -90, 345, 655, -1, 0, 200]\n",
    "Используйте list comprehensions"
   ]
  },
  {
   "cell_type": "code",
   "execution_count": 3,
   "id": "396c0109",
   "metadata": {},
   "outputs": [],
   "source": [
    "ad_expenses = [100, 125, -90, 345, 655, -1, 0, 200]"
   ]
  },
  {
   "cell_type": "code",
   "execution_count": 4,
   "id": "5d4017a5",
   "metadata": {},
   "outputs": [],
   "source": [
    "real_ad_expenses = [i for i in ad_expenses if i > 0]"
   ]
  },
  {
   "cell_type": "code",
   "execution_count": 5,
   "id": "028348d2",
   "metadata": {},
   "outputs": [
    {
     "data": {
      "text/plain": [
       "1425"
      ]
     },
     "execution_count": 5,
     "metadata": {},
     "output_type": "execute_result"
    }
   ],
   "source": [
    "sum(real_ad_expenses)"
   ]
  },
  {
   "cell_type": "markdown",
   "id": "cfa9cccd",
   "metadata": {},
   "source": [
    "## Задание 4"
   ]
  },
  {
   "cell_type": "markdown",
   "id": "b3653a3a",
   "metadata": {},
   "source": [
    "Даны два списка.\n",
    "- **Дата покупки**  \n",
    "['2021-09-14', '2021-12-15', '2021-09-08', '2021-12-05', '2021-10-09', '2021-09-30', '2021-12-22', '2021-11-29', '2021-12-24', '2021-11-26', '2021-10-27', '2021-12-18', '2021-11-09', '2021-11-23', '2021-09-27', '2021-10-02', '2021-12-27', '2021-09-20', '2021-12-13', '2021-11-01', '2021-11-09', '2021-12-06', '2021-12-08', '2021-10-09', '2021-10-31', '2021-09-30', '2021-11-09', '2021-12-13', '2021-10-26', '2021-12-09']\n",
    "- **Суммы покупок по датам**  \n",
    "[1270, 8413, 9028, 3703, 5739, 4095, 295, 4944, 5723, 3701, 4471, 651, 7037, 4274, 6275, 4988, 6930, 2971, 6592, 2004, 2822, 519, 3406, 2732, 5015, 2008, 316, 6333, 5700, 2887]"
   ]
  },
  {
   "cell_type": "markdown",
   "id": "46ceed9c",
   "metadata": {},
   "source": [
    "### 4.1 Найдите, какая выручка у компании в ноябре\n",
    "Используйте list comprehensions"
   ]
  },
  {
   "cell_type": "code",
   "execution_count": 6,
   "id": "43a003dc",
   "metadata": {},
   "outputs": [],
   "source": [
    "shopping_dates = ['2021-09-14', '2021-12-15', '2021-09-08', '2021-12-05', '2021-10-09', '2021-09-30', '2021-12-22', '2021-11-29', '2021-12-24', '2021-11-26', '2021-10-27', '2021-12-18', '2021-11-09', '2021-11-23', '2021-09-27', '2021-10-02', '2021-12-27', '2021-09-20', '2021-12-13', '2021-11-01', '2021-11-09', '2021-12-06', '2021-12-08', '2021-10-09', '2021-10-31', '2021-09-30', '2021-11-09', '2021-12-13', '2021-10-26', '2021-12-09']\n",
    "shopping_sums_by_dates = [1270, 8413, 9028, 3703, 5739, 4095, 295, 4944, 5723, 3701, 4471, 651, 7037, 4274, 6275, 4988, 6930, 2971, 6592, 2004, 2822, 519, 3406, 2732, 5015, 2008, 316, 6333, 5700, 2887]"
   ]
  },
  {
   "cell_type": "code",
   "execution_count": 7,
   "id": "55fd756d",
   "metadata": {},
   "outputs": [],
   "source": [
    "shopping_november = [shopping_sums_by_dates[i] for i in range(len(shopping_sums_by_dates)) if shopping_dates[i].split('-')[1] == '11']"
   ]
  },
  {
   "cell_type": "code",
   "execution_count": 8,
   "id": "b022c061",
   "metadata": {},
   "outputs": [
    {
     "data": {
      "text/plain": [
       "25098"
      ]
     },
     "execution_count": 8,
     "metadata": {},
     "output_type": "execute_result"
    }
   ],
   "source": [
    "sum(shopping_november)"
   ]
  },
  {
   "cell_type": "markdown",
   "id": "e6d0fa5c",
   "metadata": {},
   "source": [
    "### 4.2 Найдите выручку компании в зависимости от месяца\n",
    "Для этого напишите функцию, которая на вход принимает список с датами и список с выручкой, а на выходе словарь, где ключи - это месяцы, а значения - это выручка.\n",
    "Используйте аннотирование типов."
   ]
  },
  {
   "cell_type": "code",
   "execution_count": 9,
   "id": "fef9d0e5",
   "metadata": {},
   "outputs": [],
   "source": [
    "def shopping_amount_by_month(dates: list, shopping_sums: list, month: int) -> int:\n",
    "    result = 0;\n",
    "    for i in range(len(dates)):\n",
    "        if int(dates[i].split('-')[1]) == month:\n",
    "            result = result + shopping_sums[i]\n",
    "    return result"
   ]
  },
  {
   "cell_type": "code",
   "execution_count": 10,
   "id": "ef5dec86",
   "metadata": {},
   "outputs": [
    {
     "data": {
      "text/plain": [
       "25098"
      ]
     },
     "execution_count": 10,
     "metadata": {},
     "output_type": "execute_result"
    }
   ],
   "source": [
    "shopping_amount_by_month(shopping_dates, shopping_sums_by_dates, 11)"
   ]
  }
 ],
 "metadata": {
  "kernelspec": {
   "display_name": "Python 3 (ipykernel)",
   "language": "python",
   "name": "python3"
  },
  "language_info": {
   "codemirror_mode": {
    "name": "ipython",
    "version": 3
   },
   "file_extension": ".py",
   "mimetype": "text/x-python",
   "name": "python",
   "nbconvert_exporter": "python",
   "pygments_lexer": "ipython3",
   "version": "3.10.9"
  }
 },
 "nbformat": 4,
 "nbformat_minor": 5
}
