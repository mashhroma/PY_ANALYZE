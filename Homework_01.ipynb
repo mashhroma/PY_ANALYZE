{
 "cells": [
  {
   "cell_type": "markdown",
   "id": "160df254",
   "metadata": {},
   "source": [
    "# Домашняя работа по семинару 1"
   ]
  },
  {
   "cell_type": "markdown",
   "id": "fea43562",
   "metadata": {},
   "source": [
    "## Задание 1"
   ]
  },
  {
   "cell_type": "markdown",
   "id": "12a8ae89",
   "metadata": {},
   "source": [
    "На складе лежат разные фрукты в разном количестве.\n",
    "Нужно написать функцию, которая на вход принимает любое количество названий фруктов и их количество, а возвращает общее количество"
   ]
  },
  {
   "cell_type": "code",
   "execution_count": 8,
   "id": "b3ae90b9",
   "metadata": {},
   "outputs": [],
   "source": [
    "def fruit_quantity(**fruits):\n",
    "    return sum(fruits.values())"
   ]
  },
  {
   "cell_type": "code",
   "execution_count": 12,
   "id": "821be487",
   "metadata": {},
   "outputs": [
    {
     "data": {
      "text/plain": [
       "100"
      ]
     },
     "execution_count": 12,
     "metadata": {},
     "output_type": "execute_result"
    }
   ],
   "source": [
    "fruit_quantity(oranges=20, apples=10, bananas=40, pineapples=30)"
   ]
  },
  {
   "cell_type": "code",
   "execution_count": null,
   "id": "27eeee20",
   "metadata": {},
   "outputs": [],
   "source": []
  }
 ],
 "metadata": {
  "kernelspec": {
   "display_name": "Python 3 (ipykernel)",
   "language": "python",
   "name": "python3"
  },
  "language_info": {
   "codemirror_mode": {
    "name": "ipython",
    "version": 3
   },
   "file_extension": ".py",
   "mimetype": "text/x-python",
   "name": "python",
   "nbconvert_exporter": "python",
   "pygments_lexer": "ipython3",
   "version": "3.10.9"
  }
 },
 "nbformat": 4,
 "nbformat_minor": 5
}
